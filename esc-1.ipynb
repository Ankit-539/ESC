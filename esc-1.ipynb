{
 "cells": [
  {
   "cell_type": "code",
   "execution_count": 30,
   "metadata": {},
   "outputs": [],
   "source": [
    "import math\n",
    "import numpy as np\n",
    "import random"
   ]
  },
  {
   "cell_type": "code",
   "execution_count": 31,
   "metadata": {},
   "outputs": [],
   "source": [
    "def fact(a):\n",
    "\n",
    "    if(a==1):\n",
    "        return 1\n",
    "    else:\n",
    "        return a*fact(a-1)"
   ]
  },
  {
   "cell_type": "code",
   "execution_count": 32,
   "metadata": {},
   "outputs": [
    {
     "name": "stdout",
     "output_type": "stream",
     "text": [
      "Hypo c =  5.385164807134504\n",
      "sq root  d =  2.320595787106084\n",
      "0.8418239574966185 12.496790764308276 2.3205957871060834 -5.163965256622914 3628800\n"
     ]
    }
   ],
   "source": [
    "a = 2\n",
    "b = 5\n",
    "\n",
    "c = (a**2+b**2)**(0.5)\n",
    "d = math.sqrt(c)\n",
    "\n",
    "print(\"Hypo c = \", c)\n",
    "print(\"sq root  d = \", d)\n",
    "\n",
    "e = math.log(d)\n",
    "print(e, c*d, c/d, c*math.sin(b), fact(10))"
   ]
  },
  {
   "cell_type": "code",
   "execution_count": 34,
   "metadata": {},
   "outputs": [
    {
     "data": {
      "text/plain": [
       "(array([[ 1,  4,  9],\n",
       "        [16, 25, 36],\n",
       "        [49, 80, 81]]),\n",
       " array([[ 30,  36,  42],\n",
       "        [ 66,  81,  96],\n",
       "        [110, 136, 162]]),\n",
       " array([[ 30,  36,  42],\n",
       "        [ 66,  81,  96],\n",
       "        [110, 136, 162]]),\n",
       " array([[ 1,  4,  7],\n",
       "        [ 2,  5, 10],\n",
       "        [ 3,  6,  9]]),\n",
       " array([[-1.25      ,  1.        , -0.25      ],\n",
       "        [ 0.5       , -1.        ,  0.5       ],\n",
       "        [ 0.41666667,  0.33333333, -0.25      ]]))"
      ]
     },
     "execution_count": 34,
     "metadata": {},
     "output_type": "execute_result"
    }
   ],
   "source": [
    "a = np.array([[1, 2, 3], [4, 5, 6], [7, 10, 9]])\n",
    "b = np.array([[1, 2, 3], [4, 5, 6], [7, 8, 9]])\n",
    "\n",
    "a*b, np.matmul(a, b), a.dot(b), a.T, np.linalg.inv(a)"
   ]
  }
 ],
 "metadata": {
  "kernelspec": {
   "display_name": "Python 3",
   "language": "python",
   "name": "python3"
  },
  "language_info": {
   "codemirror_mode": {
    "name": "ipython",
    "version": 3
   },
   "file_extension": ".py",
   "mimetype": "text/x-python",
   "name": "python",
   "nbconvert_exporter": "python",
   "pygments_lexer": "ipython3",
   "version": "3.10.2"
  },
  "orig_nbformat": 4
 },
 "nbformat": 4,
 "nbformat_minor": 2
}
